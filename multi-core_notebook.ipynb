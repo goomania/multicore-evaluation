{
 "cells": [
  {
   "cell_type": "markdown",
   "metadata": {},
   "source": [
    "Code along for article"
   ]
  },
  {
   "cell_type": "code",
   "execution_count": 1,
   "metadata": {},
   "outputs": [],
   "source": [
    "%matplotlib inline"
   ]
  },
  {
   "cell_type": "code",
   "execution_count": 2,
   "metadata": {},
   "outputs": [],
   "source": [
    "import sys\n",
    "import time\n",
    "import subprocess\n",
    "import numpy as np\n",
    "import pandas as pd\n",
    "from sklearn.ensemble import RandomForestClassifier\n",
    "from sklearn.model_selection import cross_validate\n",
    "import matplotlib.pyplot as plt"
   ]
  },
  {
   "cell_type": "code",
   "execution_count": 3,
   "metadata": {},
   "outputs": [],
   "source": [
    "np.random.seed(42)  # set seed for reproducibility"
   ]
  },
  {
   "cell_type": "markdown",
   "metadata": {},
   "source": [
    "#### Generate bootstrap data"
   ]
  },
  {
   "cell_type": "code",
   "execution_count": 4,
   "metadata": {},
   "outputs": [],
   "source": [
    "def bootstrap(df, n, to_df=True):\n",
    "    \"\"\"\n",
    "    generate n bootstraped samples from a DataFrame\n",
    "    \n",
    "    \"\"\"\n",
    "    assert isinstance(df, type(pd.DataFrame())),\\\n",
    "        f\"Expected pandas.DataFrame, got type: {type(df)}\"\n",
    "\n",
    "    sample = {column: np.random.choice(df[column], size=int(n)) for column in df.columns}  # column: bootstrap sample\n",
    "    if to_df: sample = pd.DataFrame.from_dict(sample)   # convert to DataFrame\n",
    "\n",
    "    return sample\n"
   ]
  },
  {
   "cell_type": "markdown",
   "metadata": {},
   "source": [
    "#### Get the mean of runtime for k-folds cross validation"
   ]
  },
  {
   "cell_type": "code",
   "execution_count": 5,
   "metadata": {},
   "outputs": [],
   "source": [
    "def test_model(model, sample, k=5):\n",
    "    \"\"\"\n",
    "    get the mean time it takes to train the model over k-folds\n",
    "    \n",
    "    \"\"\"\n",
    "    x = sample.copy()  # set our predictors\n",
    "    y = x.pop('y')  # set our response\n",
    "    mean_fit_time = np.mean(cross_validate(model, x, y, cv=k)['fit_time']) * 100  # get mean run time\n",
    "\n",
    "    return mean_fit_time\n"
   ]
  },
  {
   "cell_type": "markdown",
   "metadata": {},
   "source": [
    "#### Evalute the run times across all cores"
   ]
  },
  {
   "cell_type": "code",
   "execution_count": 6,
   "metadata": {},
   "outputs": [],
   "source": [
    "def evaluate_cores(model, data, n_samples, stride=1000, printer=False):\n",
    "    \"\"\"\n",
    "    evaluate multicore \n",
    "    \n",
    "    \"\"\"\n",
    "    N = [n for n in range(stride, (n_samples+stride), stride)]  # the number of samples we're using, stride of 1000\n",
    "\n",
    "    cores = int(subprocess.check_output(['sysctl', '-n', 'hw.ncpu']).decode())  # get the number of cores\n",
    "\n",
    "    model_dict = {f\"model_{n}\": model(n_jobs=n) for n in range(1, cores+1)}  # contruct model:instance pairs\n",
    "    data_dict = {model: [] for model in model_dict.keys()}  # prep data for storage\n",
    "\n",
    "    printer: print(\"Starting evaluation...\")\n",
    "    for n in N:\n",
    "        print(f\"\\n  n={n}\")\n",
    "        sample = bootstrap(data.copy(), n=n, to_df=True)  # get bootstrap sample data\n",
    "\n",
    "        for k in data_dict.keys():\n",
    "            printer: print(f\"\\tTraining model {k}\")\n",
    "            start = time.time()\n",
    "            data_dict[k].append(test_model(model_dict[k], sample))  # add times to dict\n",
    "            if printer: print(f\"\\t  - mean fit time: {(time.time() - start):.2f} s\")\n",
    "\n",
    "    data_dict['N'] = N\n",
    "\n",
    "    df = pd.DataFrame.from_dict(data_dict)\n",
    "\n",
    "    return df\n"
   ]
  },
  {
   "cell_type": "markdown",
   "metadata": {},
   "source": [
    "#### Visualize the results"
   ]
  },
  {
   "cell_type": "code",
   "execution_count": 7,
   "metadata": {},
   "outputs": [],
   "source": [
    "def visualize(data, save=False):\n",
    "    \"\"\"\n",
    "    plot the results\n",
    "    \n",
    "    \"\"\"\n",
    "\n",
    "    y = data.copy()  # get y-values\n",
    "    x = y.pop('N')  # get x-values\n",
    "\n",
    "    plt.plot(x, y)\n",
    "    plt.title(\"Average Model Training Time\")\n",
    "    plt.xlabel('Sample Size ($n$)')\n",
    "    plt.ylabel('Time (ms)')\n",
    "    plt.legend([f'n_jobs={n}' for n in range(1, len(data.columns))])\n",
    "    \n",
    "    plt.savefig('spread_the_love_new.png', dpi=250)\n",
    "    \n",
    "    plt.show()\n"
   ]
  },
  {
   "cell_type": "markdown",
   "metadata": {},
   "source": [
    "#### Run the program"
   ]
  },
  {
   "cell_type": "code",
   "execution_count": null,
   "metadata": {},
   "outputs": [],
   "source": [
    "df = pd.read_csv('bank-clean.csv')  # read in the data"
   ]
  },
  {
   "cell_type": "code",
   "execution_count": null,
   "metadata": {
    "scrolled": true
   },
   "outputs": [
    {
     "name": "stdout",
     "output_type": "stream",
     "text": [
      "\n",
      "  n=10000\n",
      "\n",
      "  n=20000\n",
      "\n",
      "  n=30000\n",
      "\n",
      "  n=40000\n",
      "\n",
      "  n=50000\n",
      "\n",
      "  n=60000\n",
      "\n",
      "  n=70000\n",
      "\n",
      "  n=80000\n",
      "\n",
      "  n=90000\n",
      "\n",
      "  n=100000\n"
     ]
    }
   ],
   "source": [
    "results = evaluate_cores(RandomForestClassifier, df, 250000, stride=10000)  # run model evaluation, using random forest"
   ]
  },
  {
   "cell_type": "code",
   "execution_count": null,
   "metadata": {},
   "outputs": [],
   "source": [
    "results.describe()  # view the summary stats for the results"
   ]
  },
  {
   "cell_type": "code",
   "execution_count": null,
   "metadata": {},
   "outputs": [],
   "source": [
    "visualize(results)  # plot the results"
   ]
  }
 ],
 "metadata": {
  "kernelspec": {
   "display_name": "Python 3",
   "language": "python",
   "name": "python3"
  },
  "language_info": {
   "codemirror_mode": {
    "name": "ipython",
    "version": 3
   },
   "file_extension": ".py",
   "mimetype": "text/x-python",
   "name": "python",
   "nbconvert_exporter": "python",
   "pygments_lexer": "ipython3",
   "version": "3.6.3"
  }
 },
 "nbformat": 4,
 "nbformat_minor": 2
}
